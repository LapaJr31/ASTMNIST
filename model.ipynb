{
 "cells": [
  {
   "cell_type": "code",
   "execution_count": null,
   "id": "a47452d2",
   "metadata": {},
   "outputs": [],
   "source": [
    "from datasets import load_dataset\n",
    "from transformers import ASTForAudioClassification, AutoFeatureExtractor"
   ]
  },
  {
   "cell_type": "code",
   "execution_count": 11,
   "id": "ca1da412",
   "metadata": {},
   "outputs": [],
   "source": [
    "ds = load_dataset(\"gilkeyio/AudioMNIST\")"
   ]
  },
  {
   "cell_type": "code",
   "execution_count": 12,
   "id": "873f128f",
   "metadata": {},
   "outputs": [
    {
     "data": {
      "text/html": [
       "<div>\n",
       "<style scoped>\n",
       "    .dataframe tbody tr th:only-of-type {\n",
       "        vertical-align: middle;\n",
       "    }\n",
       "\n",
       "    .dataframe tbody tr th {\n",
       "        vertical-align: top;\n",
       "    }\n",
       "\n",
       "    .dataframe thead th {\n",
       "        text-align: right;\n",
       "    }\n",
       "</style>\n",
       "<table border=\"1\" class=\"dataframe\">\n",
       "  <thead>\n",
       "    <tr style=\"text-align: right;\">\n",
       "      <th></th>\n",
       "      <th>speaker_id</th>\n",
       "      <th>audio</th>\n",
       "      <th>digit</th>\n",
       "      <th>gender</th>\n",
       "      <th>accent</th>\n",
       "      <th>age</th>\n",
       "      <th>native_speaker</th>\n",
       "      <th>origin</th>\n",
       "    </tr>\n",
       "  </thead>\n",
       "  <tbody>\n",
       "    <tr>\n",
       "      <th>0</th>\n",
       "      <td>59</td>\n",
       "      <td>{'bytes': b'RIFF 3\\x01\\x00WAVEfmt \\x10\\x00\\x00...</td>\n",
       "      <td>7</td>\n",
       "      <td>1</td>\n",
       "      <td>German</td>\n",
       "      <td>31.0</td>\n",
       "      <td>False</td>\n",
       "      <td>Europe, Germany, Berlin</td>\n",
       "    </tr>\n",
       "    <tr>\n",
       "      <th>1</th>\n",
       "      <td>59</td>\n",
       "      <td>{'bytes': b'RIFF\\xb0&lt;\\x01\\x00WAVEfmt \\x10\\x00\\...</td>\n",
       "      <td>7</td>\n",
       "      <td>1</td>\n",
       "      <td>German</td>\n",
       "      <td>31.0</td>\n",
       "      <td>False</td>\n",
       "      <td>Europe, Germany, Berlin</td>\n",
       "    </tr>\n",
       "    <tr>\n",
       "      <th>2</th>\n",
       "      <td>59</td>\n",
       "      <td>{'bytes': b'RIFFZ\\xce\\x00\\x00WAVEfmt \\x10\\x00\\...</td>\n",
       "      <td>2</td>\n",
       "      <td>1</td>\n",
       "      <td>German</td>\n",
       "      <td>31.0</td>\n",
       "      <td>False</td>\n",
       "      <td>Europe, Germany, Berlin</td>\n",
       "    </tr>\n",
       "    <tr>\n",
       "      <th>3</th>\n",
       "      <td>59</td>\n",
       "      <td>{'bytes': b'RIFFV\\xfb\\x00\\x00WAVEfmt \\x10\\x00\\...</td>\n",
       "      <td>3</td>\n",
       "      <td>1</td>\n",
       "      <td>German</td>\n",
       "      <td>31.0</td>\n",
       "      <td>False</td>\n",
       "      <td>Europe, Germany, Berlin</td>\n",
       "    </tr>\n",
       "    <tr>\n",
       "      <th>4</th>\n",
       "      <td>59</td>\n",
       "      <td>{'bytes': b'RIFF\\x02\\x1a\\x01\\x00WAVEfmt \\x10\\x...</td>\n",
       "      <td>9</td>\n",
       "      <td>1</td>\n",
       "      <td>German</td>\n",
       "      <td>31.0</td>\n",
       "      <td>False</td>\n",
       "      <td>Europe, Germany, Berlin</td>\n",
       "    </tr>\n",
       "  </tbody>\n",
       "</table>\n",
       "</div>"
      ],
      "text/plain": [
       "  speaker_id                                              audio  digit  \\\n",
       "0         59  {'bytes': b'RIFF 3\\x01\\x00WAVEfmt \\x10\\x00\\x00...      7   \n",
       "1         59  {'bytes': b'RIFF\\xb0<\\x01\\x00WAVEfmt \\x10\\x00\\...      7   \n",
       "2         59  {'bytes': b'RIFFZ\\xce\\x00\\x00WAVEfmt \\x10\\x00\\...      2   \n",
       "3         59  {'bytes': b'RIFFV\\xfb\\x00\\x00WAVEfmt \\x10\\x00\\...      3   \n",
       "4         59  {'bytes': b'RIFF\\x02\\x1a\\x01\\x00WAVEfmt \\x10\\x...      9   \n",
       "\n",
       "   gender  accent   age  native_speaker                   origin  \n",
       "0       1  German  31.0           False  Europe, Germany, Berlin  \n",
       "1       1  German  31.0           False  Europe, Germany, Berlin  \n",
       "2       1  German  31.0           False  Europe, Germany, Berlin  \n",
       "3       1  German  31.0           False  Europe, Germany, Berlin  \n",
       "4       1  German  31.0           False  Europe, Germany, Berlin  "
      ]
     },
     "execution_count": 12,
     "metadata": {},
     "output_type": "execute_result"
    }
   ],
   "source": [
    "df = ds['train'].to_pandas()\n",
    "df.head()"
   ]
  },
  {
   "cell_type": "code",
   "execution_count": null,
   "id": "2ddeff69",
   "metadata": {},
   "outputs": [],
   "source": []
  }
 ],
 "metadata": {
  "kernelspec": {
   "display_name": "audiodetect",
   "language": "python",
   "name": "python3"
  },
  "language_info": {
   "codemirror_mode": {
    "name": "ipython",
    "version": 3
   },
   "file_extension": ".py",
   "mimetype": "text/x-python",
   "name": "python",
   "nbconvert_exporter": "python",
   "pygments_lexer": "ipython3",
   "version": "3.11.14"
  }
 },
 "nbformat": 4,
 "nbformat_minor": 5
}
