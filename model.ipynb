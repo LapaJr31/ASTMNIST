{
 "cells": [
  {
   "cell_type": "code",
   "execution_count": null,
   "id": "a47452d2",
   "metadata": {},
   "outputs": [],
   "source": [
    "from datasets import load_dataset, to_pandas\n",
    "from transformers import ASTForAudioClassification\n",
    "import torch\n",
    "import pandas as pd"
   ]
  },
  {
   "cell_type": "code",
   "execution_count": null,
   "id": "ca1da412",
   "metadata": {},
   "outputs": [],
   "source": [
    "ds = load_dataset(\"gilkeyio/AudioMNIST\")"
   ]
  },
  {
   "cell_type": "code",
   "execution_count": null,
   "id": "873f128f",
   "metadata": {},
   "outputs": [],
   "source": [
    "df = ds['train'].to_pandas()\n",
    "df.head()"
   ]
  }
 ],
 "metadata": {
  "kernelspec": {
   "display_name": "audiodetect",
   "language": "python",
   "name": "python3"
  },
  "language_info": {
   "codemirror_mode": {
    "name": "ipython",
    "version": 3
   },
   "file_extension": ".py",
   "mimetype": "text/x-python",
   "name": "python",
   "nbconvert_exporter": "python",
   "pygments_lexer": "ipython3",
   "version": "3.11.14"
  }
 },
 "nbformat": 4,
 "nbformat_minor": 5
}
