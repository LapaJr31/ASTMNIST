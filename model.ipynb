{
 "cells": [
  {
   "cell_type": "code",
   "execution_count": 1,
   "id": "a47452d2",
   "metadata": {},
   "outputs": [
    {
     "name": "stderr",
     "output_type": "stream",
     "text": [
      "/home/lapka/projects/ML/audioDetect/.venv/lib/python3.11/site-packages/tqdm/auto.py:21: TqdmWarning: IProgress not found. Please update jupyter and ipywidgets. See https://ipywidgets.readthedocs.io/en/stable/user_install.html\n",
      "  from .autonotebook import tqdm as notebook_tqdm\n"
     ]
    }
   ],
   "source": [
    "from datasets import load_dataset, Audio\n",
    "from transformers import ASTForAudioClassification, AutoFeatureExtractor, Trainer, TrainingArguments, DefaultDataCollator # noqa: F401\n",
    "import matplotlib.pyplot as plt # noqa: F401"
   ]
  },
  {
   "cell_type": "code",
   "execution_count": 2,
   "id": "ca1da412",
   "metadata": {},
   "outputs": [],
   "source": [
    "ds = load_dataset(\"gilkeyio/AudioMNIST\")\n",
    "ds = ds.cast_column(\"audio\", Audio(sampling_rate=16000))\n",
    "sampling_rate = ds['train'].features[\"audio\"].sampling_rate"
   ]
  },
  {
   "cell_type": "code",
   "execution_count": 3,
   "id": "873f128f",
   "metadata": {},
   "outputs": [
    {
     "data": {
      "text/html": [
       "<div>\n",
       "<style scoped>\n",
       "    .dataframe tbody tr th:only-of-type {\n",
       "        vertical-align: middle;\n",
       "    }\n",
       "\n",
       "    .dataframe tbody tr th {\n",
       "        vertical-align: top;\n",
       "    }\n",
       "\n",
       "    .dataframe thead th {\n",
       "        text-align: right;\n",
       "    }\n",
       "</style>\n",
       "<table border=\"1\" class=\"dataframe\">\n",
       "  <thead>\n",
       "    <tr style=\"text-align: right;\">\n",
       "      <th></th>\n",
       "      <th>speaker_id</th>\n",
       "      <th>audio</th>\n",
       "      <th>digit</th>\n",
       "      <th>gender</th>\n",
       "      <th>accent</th>\n",
       "      <th>age</th>\n",
       "      <th>native_speaker</th>\n",
       "      <th>origin</th>\n",
       "    </tr>\n",
       "  </thead>\n",
       "  <tbody>\n",
       "    <tr>\n",
       "      <th>0</th>\n",
       "      <td>59</td>\n",
       "      <td>{'bytes': b'RIFF 3\\x01\\x00WAVEfmt \\x10\\x00\\x00...</td>\n",
       "      <td>7</td>\n",
       "      <td>1</td>\n",
       "      <td>German</td>\n",
       "      <td>31.0</td>\n",
       "      <td>False</td>\n",
       "      <td>Europe, Germany, Berlin</td>\n",
       "    </tr>\n",
       "    <tr>\n",
       "      <th>1</th>\n",
       "      <td>59</td>\n",
       "      <td>{'bytes': b'RIFF\\xb0&lt;\\x01\\x00WAVEfmt \\x10\\x00\\...</td>\n",
       "      <td>7</td>\n",
       "      <td>1</td>\n",
       "      <td>German</td>\n",
       "      <td>31.0</td>\n",
       "      <td>False</td>\n",
       "      <td>Europe, Germany, Berlin</td>\n",
       "    </tr>\n",
       "    <tr>\n",
       "      <th>2</th>\n",
       "      <td>59</td>\n",
       "      <td>{'bytes': b'RIFFZ\\xce\\x00\\x00WAVEfmt \\x10\\x00\\...</td>\n",
       "      <td>2</td>\n",
       "      <td>1</td>\n",
       "      <td>German</td>\n",
       "      <td>31.0</td>\n",
       "      <td>False</td>\n",
       "      <td>Europe, Germany, Berlin</td>\n",
       "    </tr>\n",
       "    <tr>\n",
       "      <th>3</th>\n",
       "      <td>59</td>\n",
       "      <td>{'bytes': b'RIFFV\\xfb\\x00\\x00WAVEfmt \\x10\\x00\\...</td>\n",
       "      <td>3</td>\n",
       "      <td>1</td>\n",
       "      <td>German</td>\n",
       "      <td>31.0</td>\n",
       "      <td>False</td>\n",
       "      <td>Europe, Germany, Berlin</td>\n",
       "    </tr>\n",
       "    <tr>\n",
       "      <th>4</th>\n",
       "      <td>59</td>\n",
       "      <td>{'bytes': b'RIFF\\x02\\x1a\\x01\\x00WAVEfmt \\x10\\x...</td>\n",
       "      <td>9</td>\n",
       "      <td>1</td>\n",
       "      <td>German</td>\n",
       "      <td>31.0</td>\n",
       "      <td>False</td>\n",
       "      <td>Europe, Germany, Berlin</td>\n",
       "    </tr>\n",
       "  </tbody>\n",
       "</table>\n",
       "</div>"
      ],
      "text/plain": [
       "  speaker_id                                              audio  digit  \\\n",
       "0         59  {'bytes': b'RIFF 3\\x01\\x00WAVEfmt \\x10\\x00\\x00...      7   \n",
       "1         59  {'bytes': b'RIFF\\xb0<\\x01\\x00WAVEfmt \\x10\\x00\\...      7   \n",
       "2         59  {'bytes': b'RIFFZ\\xce\\x00\\x00WAVEfmt \\x10\\x00\\...      2   \n",
       "3         59  {'bytes': b'RIFFV\\xfb\\x00\\x00WAVEfmt \\x10\\x00\\...      3   \n",
       "4         59  {'bytes': b'RIFF\\x02\\x1a\\x01\\x00WAVEfmt \\x10\\x...      9   \n",
       "\n",
       "   gender  accent   age  native_speaker                   origin  \n",
       "0       1  German  31.0           False  Europe, Germany, Berlin  \n",
       "1       1  German  31.0           False  Europe, Germany, Berlin  \n",
       "2       1  German  31.0           False  Europe, Germany, Berlin  \n",
       "3       1  German  31.0           False  Europe, Germany, Berlin  \n",
       "4       1  German  31.0           False  Europe, Germany, Berlin  "
      ]
     },
     "execution_count": 3,
     "metadata": {},
     "output_type": "execute_result"
    }
   ],
   "source": [
    "df = ds['train'].to_pandas()\n",
    "df.head()"
   ]
  },
  {
   "cell_type": "code",
   "execution_count": 4,
   "id": "2ddeff69",
   "metadata": {},
   "outputs": [
    {
     "name": "stderr",
     "output_type": "stream",
     "text": [
      "/home/lapka/projects/ML/audioDetect/.venv/lib/python3.11/site-packages/transformers/audio_utils.py:525: UserWarning: At least one mel filter has all zero values. The value for `num_mel_filters` (128) may be set too high. Or, the value for `num_frequency_bins` (257) may be set too low.\n",
      "  warnings.warn(\n"
     ]
    }
   ],
   "source": [
    "feature_extractor = AutoFeatureExtractor.from_pretrained(\"MIT/ast-finetuned-audioset-10-10-0.4593\")\n",
    "\n",
    "def preprocessing(input):\n",
    "    output = feature_extractor(input[\"audio\"][\"array\"], sampling_rate = sampling_rate)\n",
    "    return {\n",
    "        \"input_values\": output[\"input_values\"][0],\n",
    "        \"labels\": input[\"digit\"] ,\n",
    "    }\n",
    "\n",
    "# test_result = preprocessing(ds['train'][0])\n",
    "# print(\"Keys:\", test_result.keys())\n",
    "# print(\"Input type:\", type(test_result['input_values']))\n",
    "# print(\"Input shape:\", test_result['input_values'].shape)\n",
    "# print(\"Label:\", test_result['labels'])"
   ]
  },
  {
   "cell_type": "code",
   "execution_count": 5,
   "id": "16e6426e",
   "metadata": {},
   "outputs": [],
   "source": [
    "ds = ds.map(preprocessing)"
   ]
  },
  {
   "cell_type": "code",
   "execution_count": 6,
   "id": "9653851f",
   "metadata": {},
   "outputs": [],
   "source": [
    "training_args = TrainingArguments(\n",
    "    do_train=True,\n",
    "    output_dir=\"./model\",\n",
    "    learning_rate=2e-5,\n",
    "    eval_strategy=\"epoch\",\n",
    "    per_device_train_batch_size=200,\n",
    "    per_device_eval_batch_size=124,\n",
    "    num_train_epochs=5,\n",
    "    weight_decay=0.01,\n",
    "    lr_scheduler_type=\"linear\",\n",
    "    save_strategy=\"epoch\",\n",
    "    load_best_model_at_end=True,\n",
    "    push_to_hub=True\n",
    ")"
   ]
  },
  {
   "cell_type": "code",
   "execution_count": 7,
   "id": "6805da71",
   "metadata": {},
   "outputs": [
    {
     "name": "stderr",
     "output_type": "stream",
     "text": [
      "Some weights of ASTForAudioClassification were not initialized from the model checkpoint at MIT/ast-finetuned-audioset-10-10-0.4593 and are newly initialized because the shapes did not match:\n",
      "- classifier.dense.bias: found shape torch.Size([527]) in the checkpoint and torch.Size([10]) in the model instantiated\n",
      "- classifier.dense.weight: found shape torch.Size([527, 768]) in the checkpoint and torch.Size([10, 768]) in the model instantiated\n",
      "You should probably TRAIN this model on a down-stream task to be able to use it for predictions and inference.\n"
     ]
    }
   ],
   "source": [
    "data_collator = DefaultDataCollator()\n",
    "\n",
    "trainer = Trainer(\n",
    "    model = ASTForAudioClassification.from_pretrained(\"MIT/ast-finetuned-audioset-10-10-0.4593\",\n",
    "                                                      num_labels=10,\n",
    "                                                      ignore_mismatched_sizes=True),\n",
    "    args = training_args,\n",
    "    train_dataset = ds[\"train\"],\n",
    "    eval_dataset = ds[\"test\"],\n",
    "    data_collator = data_collator\n",
    ")"
   ]
  },
  {
   "cell_type": "code",
   "execution_count": null,
   "id": "15e1f8c4",
   "metadata": {},
   "outputs": [
    {
     "name": "stderr",
     "output_type": "stream",
     "text": [
      "/home/lapka/projects/ML/audioDetect/.venv/lib/python3.11/site-packages/torch/utils/data/dataloader.py:668: UserWarning: 'pin_memory' argument is set as true but no accelerator is found, then device pinned memory won't be used.\n",
      "  warnings.warn(warn_msg)\n"
     ]
    }
   ],
   "source": [
    "trainer.train()"
   ]
  }
 ],
 "metadata": {
  "kernelspec": {
   "display_name": "audiodetect",
   "language": "python",
   "name": "python3"
  },
  "language_info": {
   "codemirror_mode": {
    "name": "ipython",
    "version": 3
   },
   "file_extension": ".py",
   "mimetype": "text/x-python",
   "name": "python",
   "nbconvert_exporter": "python",
   "pygments_lexer": "ipython3",
   "version": "3.11.14"
  }
 },
 "nbformat": 4,
 "nbformat_minor": 5
}
