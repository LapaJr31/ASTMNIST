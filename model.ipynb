{
 "cells": [
  {
   "cell_type": "code",
   "execution_count": null,
   "id": "a47452d2",
   "metadata": {},
   "outputs": [],
   "source": [
    "from datasets import load_dataset, Audio\n",
    "from transformers import ASTForAudioClassification, AutoFeatureExtractor, Trainer, TrainingArguments # noqa: F401\n",
    "import matplotlib.pyplot as plt # noqa: F401"
   ]
  },
  {
   "cell_type": "code",
   "execution_count": null,
   "id": "ca1da412",
   "metadata": {},
   "outputs": [],
   "source": [
    "ds = load_dataset(\"gilkeyio/AudioMNIST\")\n",
    "ds = ds.cast_column(\"audio\", Audio(sampling_rate=16000))\n",
    "sampling_rate = ds['train'].features[\"audio\"].sampling_rate"
   ]
  },
  {
   "cell_type": "code",
   "execution_count": null,
   "id": "873f128f",
   "metadata": {},
   "outputs": [],
   "source": [
    "df = ds['train'].to_pandas()\n",
    "df.head()"
   ]
  },
  {
   "cell_type": "code",
   "execution_count": null,
   "id": "2ddeff69",
   "metadata": {},
   "outputs": [],
   "source": [
    "feature_extractor = AutoFeatureExtractor.from_pretrained(\"MIT/ast-finetuned-audioset-10-10-0.4593\")\n",
    "\n",
    "def preprocessing(input):\n",
    "    output = feature_extractor(input[\"audio\"][\"array\"], sampling_rate = sampling_rate)\n",
    "    return {\n",
    "        \"input_values\": output[\"input_values\"][0],\n",
    "        \"labels\": input[\"digit\"] ,\n",
    "    }\n",
    "\n",
    "# test_result = preprocessing(ds['train'][0])\n",
    "# print(\"Keys:\", test_result.keys())\n",
    "# print(\"Input type:\", type(test_result['input_values']))\n",
    "# print(\"Input shape:\", test_result['input_values'].shape)\n",
    "# print(\"Label:\", test_result['labels'])"
   ]
  },
  {
   "cell_type": "code",
   "execution_count": null,
   "id": "16e6426e",
   "metadata": {},
   "outputs": [],
   "source": [
    "ds = ds.map(preprocessing)"
   ]
  },
  {
   "cell_type": "code",
   "execution_count": null,
   "id": "9653851f",
   "metadata": {},
   "outputs": [],
   "source": [
    "training_args = TrainingArguments(\n",
    "    do_train=True,\n",
    "    output_dir=\"./model\",\n",
    "    learning_rate=2e-5,\n",
    "    eval_strategy=\"epoch\",\n",
    "    per_device_train_batch_size=16,\n",
    "    per_device_eval_batch_size=16,\n",
    "    num_train_epochs=5,\n",
    "    weight_decay=0.01,\n",
    "    lr_scheduler_type=\"linear\"\n",
    ")"
   ]
  },
  {
   "cell_type": "code",
   "execution_count": null,
   "id": "6805da71",
   "metadata": {},
   "outputs": [],
   "source": [
    "trainer = Trainer(\n",
    "    model = ASTForAudioClassification.from_pretrained(\"MIT/ast-finetuned-audioset-10-10-0.4593\"),\n",
    "    args = training_args,\n",
    "    train_dataset = ds[\"train\"],\n",
    "    eval_dataset = ds[\"test\"],\n",
    "    processing_class=\"tokenizer\"\n",
    ")"
   ]
  },
  {
   "cell_type": "code",
   "execution_count": null,
   "id": "15e1f8c4",
   "metadata": {},
   "outputs": [],
   "source": [
    "trainer.train()"
   ]
  }
 ],
 "metadata": {
  "kernelspec": {
   "display_name": "audiodetect",
   "language": "python",
   "name": "python3"
  },
  "language_info": {
   "codemirror_mode": {
    "name": "ipython",
    "version": 3
   },
   "file_extension": ".py",
   "mimetype": "text/x-python",
   "name": "python",
   "nbconvert_exporter": "python",
   "pygments_lexer": "ipython3",
   "version": "3.11.14"
  }
 },
 "nbformat": 4,
 "nbformat_minor": 5
}
