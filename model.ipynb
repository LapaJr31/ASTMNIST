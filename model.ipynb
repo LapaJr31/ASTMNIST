{
 "cells": [
  {
   "cell_type": "code",
   "execution_count": 18,
   "id": "a47452d2",
   "metadata": {},
   "outputs": [],
   "source": [
    "from datasets import load_dataset, Audio\n",
    "from transformers import ASTForAudioClassification, AutoFeatureExtractor  # noqa: F401\n",
    "import matplotlib.pyplot as plt # noqa: F401"
   ]
  },
  {
   "cell_type": "code",
   "execution_count": 19,
   "id": "ca1da412",
   "metadata": {},
   "outputs": [],
   "source": [
    "ds = load_dataset(\"gilkeyio/AudioMNIST\")\n",
    "ds = ds.cast_column(\"audio\", Audio(sampling_rate=16000))\n",
    "sampling_rate = ds['train'].features[\"audio\"].sampling_rate"
   ]
  },
  {
   "cell_type": "code",
   "execution_count": 20,
   "id": "873f128f",
   "metadata": {},
   "outputs": [
    {
     "data": {
      "text/html": [
       "<div>\n",
       "<style scoped>\n",
       "    .dataframe tbody tr th:only-of-type {\n",
       "        vertical-align: middle;\n",
       "    }\n",
       "\n",
       "    .dataframe tbody tr th {\n",
       "        vertical-align: top;\n",
       "    }\n",
       "\n",
       "    .dataframe thead th {\n",
       "        text-align: right;\n",
       "    }\n",
       "</style>\n",
       "<table border=\"1\" class=\"dataframe\">\n",
       "  <thead>\n",
       "    <tr style=\"text-align: right;\">\n",
       "      <th></th>\n",
       "      <th>speaker_id</th>\n",
       "      <th>audio</th>\n",
       "      <th>digit</th>\n",
       "      <th>gender</th>\n",
       "      <th>accent</th>\n",
       "      <th>age</th>\n",
       "      <th>native_speaker</th>\n",
       "      <th>origin</th>\n",
       "    </tr>\n",
       "  </thead>\n",
       "  <tbody>\n",
       "    <tr>\n",
       "      <th>0</th>\n",
       "      <td>59</td>\n",
       "      <td>{'bytes': b'RIFF 3\\x01\\x00WAVEfmt \\x10\\x00\\x00...</td>\n",
       "      <td>7</td>\n",
       "      <td>1</td>\n",
       "      <td>German</td>\n",
       "      <td>31.0</td>\n",
       "      <td>False</td>\n",
       "      <td>Europe, Germany, Berlin</td>\n",
       "    </tr>\n",
       "    <tr>\n",
       "      <th>1</th>\n",
       "      <td>59</td>\n",
       "      <td>{'bytes': b'RIFF\\xb0&lt;\\x01\\x00WAVEfmt \\x10\\x00\\...</td>\n",
       "      <td>7</td>\n",
       "      <td>1</td>\n",
       "      <td>German</td>\n",
       "      <td>31.0</td>\n",
       "      <td>False</td>\n",
       "      <td>Europe, Germany, Berlin</td>\n",
       "    </tr>\n",
       "    <tr>\n",
       "      <th>2</th>\n",
       "      <td>59</td>\n",
       "      <td>{'bytes': b'RIFFZ\\xce\\x00\\x00WAVEfmt \\x10\\x00\\...</td>\n",
       "      <td>2</td>\n",
       "      <td>1</td>\n",
       "      <td>German</td>\n",
       "      <td>31.0</td>\n",
       "      <td>False</td>\n",
       "      <td>Europe, Germany, Berlin</td>\n",
       "    </tr>\n",
       "    <tr>\n",
       "      <th>3</th>\n",
       "      <td>59</td>\n",
       "      <td>{'bytes': b'RIFFV\\xfb\\x00\\x00WAVEfmt \\x10\\x00\\...</td>\n",
       "      <td>3</td>\n",
       "      <td>1</td>\n",
       "      <td>German</td>\n",
       "      <td>31.0</td>\n",
       "      <td>False</td>\n",
       "      <td>Europe, Germany, Berlin</td>\n",
       "    </tr>\n",
       "    <tr>\n",
       "      <th>4</th>\n",
       "      <td>59</td>\n",
       "      <td>{'bytes': b'RIFF\\x02\\x1a\\x01\\x00WAVEfmt \\x10\\x...</td>\n",
       "      <td>9</td>\n",
       "      <td>1</td>\n",
       "      <td>German</td>\n",
       "      <td>31.0</td>\n",
       "      <td>False</td>\n",
       "      <td>Europe, Germany, Berlin</td>\n",
       "    </tr>\n",
       "  </tbody>\n",
       "</table>\n",
       "</div>"
      ],
      "text/plain": [
       "  speaker_id                                              audio  digit  \\\n",
       "0         59  {'bytes': b'RIFF 3\\x01\\x00WAVEfmt \\x10\\x00\\x00...      7   \n",
       "1         59  {'bytes': b'RIFF\\xb0<\\x01\\x00WAVEfmt \\x10\\x00\\...      7   \n",
       "2         59  {'bytes': b'RIFFZ\\xce\\x00\\x00WAVEfmt \\x10\\x00\\...      2   \n",
       "3         59  {'bytes': b'RIFFV\\xfb\\x00\\x00WAVEfmt \\x10\\x00\\...      3   \n",
       "4         59  {'bytes': b'RIFF\\x02\\x1a\\x01\\x00WAVEfmt \\x10\\x...      9   \n",
       "\n",
       "   gender  accent   age  native_speaker                   origin  \n",
       "0       1  German  31.0           False  Europe, Germany, Berlin  \n",
       "1       1  German  31.0           False  Europe, Germany, Berlin  \n",
       "2       1  German  31.0           False  Europe, Germany, Berlin  \n",
       "3       1  German  31.0           False  Europe, Germany, Berlin  \n",
       "4       1  German  31.0           False  Europe, Germany, Berlin  "
      ]
     },
     "execution_count": 20,
     "metadata": {},
     "output_type": "execute_result"
    }
   ],
   "source": [
    "df = ds['train'].to_pandas()\n",
    "df.head()"
   ]
  },
  {
   "cell_type": "code",
   "execution_count": null,
   "id": "2ddeff69",
   "metadata": {},
   "outputs": [
    {
     "name": "stdout",
     "output_type": "stream",
     "text": [
      "Keys: dict_keys(['input_values', 'labels'])\n",
      "Input type: <class 'numpy.ndarray'>\n",
      "Input shape: (1024, 128)\n",
      "Label: 7\n"
     ]
    },
    {
     "name": "stderr",
     "output_type": "stream",
     "text": [
      "/home/lapka/projects/ML/audioDetect/.venv/lib/python3.11/site-packages/transformers/audio_utils.py:525: UserWarning: At least one mel filter has all zero values. The value for `num_mel_filters` (128) may be set too high. Or, the value for `num_frequency_bins` (257) may be set too low.\n",
      "  warnings.warn(\n"
     ]
    }
   ],
   "source": [
    "feature_extractor = AutoFeatureExtractor.from_pretrained(\"MIT/ast-finetuned-audioset-10-10-0.4593\")\n",
    "\n",
    "def preprocessing(input):\n",
    "    output = feature_extractor(input[\"audio\"][\"array\"], sampling_rate = sampling_rate)\n",
    "    return {\n",
    "        \"input_values\": output[\"input_values\"][0],\n",
    "        \"labels\": input[\"digit\"] ,\n",
    "    }\n",
    "\n",
    "# test_result = preprocessing(ds['train'][0])\n",
    "# print(\"Keys:\", test_result.keys())\n",
    "# print(\"Input type:\", type(test_result['input_values']))\n",
    "# print(\"Input shape:\", test_result['input_values'].shape)\n",
    "# print(\"Label:\", test_result['labels'])"
   ]
  },
  {
   "cell_type": "code",
   "execution_count": 37,
   "id": "16e6426e",
   "metadata": {},
   "outputs": [
    {
     "name": "stderr",
     "output_type": "stream",
     "text": [
      "Map: 100%|██████████| 24000/24000 [03:26<00:00, 116.50 examples/s]\n",
      "Map: 100%|██████████| 6000/6000 [00:51<00:00, 117.63 examples/s]\n"
     ]
    }
   ],
   "source": [
    "ds = ds.map(preprocessing)"
   ]
  }
 ],
 "metadata": {
  "kernelspec": {
   "display_name": "audiodetect",
   "language": "python",
   "name": "python3"
  },
  "language_info": {
   "codemirror_mode": {
    "name": "ipython",
    "version": 3
   },
   "file_extension": ".py",
   "mimetype": "text/x-python",
   "name": "python",
   "nbconvert_exporter": "python",
   "pygments_lexer": "ipython3",
   "version": "3.11.14"
  }
 },
 "nbformat": 4,
 "nbformat_minor": 5
}
